{
 "cells": [
  {
   "cell_type": "code",
   "execution_count": 1,
   "metadata": {},
   "outputs": [],
   "source": [
    "import requests"
   ]
  },
  {
   "cell_type": "code",
   "execution_count": 2,
   "metadata": {},
   "outputs": [],
   "source": [
    "import pandas as pd\n",
    "from pandas import DataFrame"
   ]
  },
  {
   "cell_type": "code",
   "execution_count": 3,
   "metadata": {},
   "outputs": [
    {
     "name": "stdout",
     "output_type": "stream",
     "text": [
      "Requirement already satisfied: MLB-StatsAPI in c:\\users\\isaacd\\anaconda3\\lib\\site-packages (1.0.1)\n",
      "Requirement already satisfied: requests in c:\\users\\isaacd\\anaconda3\\lib\\site-packages (from MLB-StatsAPI) (2.24.0)\n",
      "Requirement already satisfied: chardet<4,>=3.0.2 in c:\\users\\isaacd\\anaconda3\\lib\\site-packages (from requests->MLB-StatsAPI) (3.0.4)\n",
      "Requirement already satisfied: certifi>=2017.4.17 in c:\\users\\isaacd\\anaconda3\\lib\\site-packages (from requests->MLB-StatsAPI) (2020.6.20)\n",
      "Requirement already satisfied: urllib3!=1.25.0,!=1.25.1,<1.26,>=1.21.1 in c:\\users\\isaacd\\anaconda3\\lib\\site-packages (from requests->MLB-StatsAPI) (1.25.9)\n",
      "Requirement already satisfied: idna<3,>=2.5 in c:\\users\\isaacd\\anaconda3\\lib\\site-packages (from requests->MLB-StatsAPI) (2.10)\n",
      "Note: you may need to restart the kernel to use updated packages.\n"
     ]
    }
   ],
   "source": [
    "pip install MLB-StatsAPI"
   ]
  },
  {
   "cell_type": "code",
   "execution_count": 4,
   "metadata": {},
   "outputs": [],
   "source": [
    "import statsapi"
   ]
  },
  {
   "cell_type": "code",
   "execution_count": 5,
   "metadata": {},
   "outputs": [],
   "source": [
    "#rookie_hr_leaders = statsapi.league_leaders('homeRuns', season=1984, playerPool = 'rookies', limit=5)\n",
    "#rookie_hr_leaders = rookie_hr_leaders.split('\\n')\n",
    "#rookie_hr_leaders"
   ]
  },
  {
   "cell_type": "code",
   "execution_count": 6,
   "metadata": {},
   "outputs": [],
   "source": [
    "#statsapi.standings_data(season=2013)\n",
    "    #standings = standings[['name', 'div_rank', 'gb', 'w', 'l', 'elim_num', 'wc_rank', 'wc_gb', 'wc_elim_num']]\n"
   ]
  },
  {
   "cell_type": "code",
   "execution_count": 7,
   "metadata": {},
   "outputs": [
    {
     "data": {
      "text/html": [
       "<div>\n",
       "<style scoped>\n",
       "    .dataframe tbody tr th:only-of-type {\n",
       "        vertical-align: middle;\n",
       "    }\n",
       "\n",
       "    .dataframe tbody tr th {\n",
       "        vertical-align: top;\n",
       "    }\n",
       "\n",
       "    .dataframe thead th {\n",
       "        text-align: right;\n",
       "    }\n",
       "</style>\n",
       "<table border=\"1\" class=\"dataframe\">\n",
       "  <thead>\n",
       "    <tr style=\"text-align: right;\">\n",
       "      <th></th>\n",
       "      <th>name</th>\n",
       "      <th>div_rank</th>\n",
       "      <th>gb</th>\n",
       "      <th>w</th>\n",
       "      <th>l</th>\n",
       "      <th>Season</th>\n",
       "      <th>Division</th>\n",
       "    </tr>\n",
       "  </thead>\n",
       "  <tbody>\n",
       "    <tr>\n",
       "      <th>0</th>\n",
       "      <td>Baltimore Orioles</td>\n",
       "      <td>1</td>\n",
       "      <td>-</td>\n",
       "      <td>96</td>\n",
       "      <td>66</td>\n",
       "      <td>2014</td>\n",
       "      <td>201</td>\n",
       "    </tr>\n",
       "    <tr>\n",
       "      <th>1</th>\n",
       "      <td>New York Yankees</td>\n",
       "      <td>2</td>\n",
       "      <td>12.0</td>\n",
       "      <td>84</td>\n",
       "      <td>78</td>\n",
       "      <td>2014</td>\n",
       "      <td>201</td>\n",
       "    </tr>\n",
       "    <tr>\n",
       "      <th>2</th>\n",
       "      <td>Toronto Blue Jays</td>\n",
       "      <td>3</td>\n",
       "      <td>13.0</td>\n",
       "      <td>83</td>\n",
       "      <td>79</td>\n",
       "      <td>2014</td>\n",
       "      <td>201</td>\n",
       "    </tr>\n",
       "    <tr>\n",
       "      <th>3</th>\n",
       "      <td>Tampa Bay Rays</td>\n",
       "      <td>4</td>\n",
       "      <td>19.0</td>\n",
       "      <td>77</td>\n",
       "      <td>85</td>\n",
       "      <td>2014</td>\n",
       "      <td>201</td>\n",
       "    </tr>\n",
       "    <tr>\n",
       "      <th>4</th>\n",
       "      <td>Boston Red Sox</td>\n",
       "      <td>5</td>\n",
       "      <td>25.0</td>\n",
       "      <td>71</td>\n",
       "      <td>91</td>\n",
       "      <td>2014</td>\n",
       "      <td>201</td>\n",
       "    </tr>\n",
       "  </tbody>\n",
       "</table>\n",
       "</div>"
      ],
      "text/plain": [
       "                name div_rank    gb   w   l  Season  Division\n",
       "0  Baltimore Orioles        1     -  96  66    2014       201\n",
       "1   New York Yankees        2  12.0  84  78    2014       201\n",
       "2  Toronto Blue Jays        3  13.0  83  79    2014       201\n",
       "3     Tampa Bay Rays        4  19.0  77  85    2014       201\n",
       "4     Boston Red Sox        5  25.0  71  91    2014       201"
      ]
     },
     "execution_count": 7,
     "metadata": {},
     "output_type": "execute_result"
    }
   ],
   "source": [
    "def get_division_standings(season, league, division):\n",
    "    standings = pd.DataFrame(statsapi.standings_data(league, season=season)[division]['teams'])\n",
    "    standings = standings[['name', 'div_rank', 'gb', 'w', 'l']]\n",
    "    standings['Season'] = season\n",
    "    standings['Division'] = division\n",
    "    #standings.to_csv(header=False,index=False)\n",
    "    return standings\n",
    "get_division_standings(2014,103, 201)"
   ]
  },
  {
   "cell_type": "code",
   "execution_count": 8,
   "metadata": {},
   "outputs": [],
   "source": [
    "#def get_division_standings(league, division):\n",
    "    #standings = pd.DataFrame(statsapi.standings_data(league)[division]['teams'])\n",
    "    #standings = standings[['name', 'div_rank', 'gb', 'w', 'l', 'elim_num', 'wc_rank', 'wc_gb', 'wc_elim_num']]\n",
    "    #return standings\n",
    "#get_division_standings(103, 201)"
   ]
  },
  {
   "cell_type": "code",
   "execution_count": 9,
   "metadata": {},
   "outputs": [],
   "source": [
    "#astros_playoff_hr_leader = statsapi.team_leader_data('117', 'homeRuns', season=2017, leaderGameTypes='P', limit=5)\n",
    "#df = DataFrame (astros_playoff_hr_leader, columns = ['Rank','Player Name', 'Playoff HomeRuns'])\n",
    "#df.set_index(\"Rank\", inplace = True)\n",
    "#print(df)"
   ]
  },
  {
   "cell_type": "code",
   "execution_count": 10,
   "metadata": {},
   "outputs": [],
   "source": [
    "#print( statsapi.boxscore(565997) )"
   ]
  },
  {
   "cell_type": "code",
   "execution_count": 11,
   "metadata": {},
   "outputs": [],
   "source": [
    "#statsapi.get('team', {'teamId':143})"
   ]
  },
  {
   "cell_type": "code",
   "execution_count": 12,
   "metadata": {},
   "outputs": [],
   "source": [
    "#print( statsapi.game_highlights( statsapi.last_game(143) ) )"
   ]
  },
  {
   "cell_type": "code",
   "execution_count": 13,
   "metadata": {},
   "outputs": [],
   "source": [
    "#statsapi.standings_data(leagueId=\"103,104\", division=\"all\", include_wildcard=True, season=2015, standingsTypes=None, date=None)"
   ]
  },
  {
   "cell_type": "code",
   "execution_count": null,
   "metadata": {},
   "outputs": [],
   "source": []
  }
 ],
 "metadata": {
  "kernelspec": {
   "display_name": "Python 3",
   "language": "python",
   "name": "python3"
  },
  "language_info": {
   "codemirror_mode": {
    "name": "ipython",
    "version": 3
   },
   "file_extension": ".py",
   "mimetype": "text/x-python",
   "name": "python",
   "nbconvert_exporter": "python",
   "pygments_lexer": "ipython3",
   "version": "3.8.3"
  }
 },
 "nbformat": 4,
 "nbformat_minor": 4
}
